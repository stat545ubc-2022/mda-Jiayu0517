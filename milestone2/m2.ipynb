{
 "cells": [
  {
   "cell_type": "code",
   "execution_count": null,
   "id": "fb0c2d73-2cf3-4f4f-8bb3-f29d381e0955",
   "metadata": {},
   "outputs": [
    {
     "name": "stderr",
     "output_type": "stream",
     "text": [
      "── \u001b[1mAttaching packages\u001b[22m ─────────────────────────────────────── tidyverse 1.3.2 ──\n",
      "\u001b[32m✔\u001b[39m \u001b[34mggplot2\u001b[39m 3.3.6      \u001b[32m✔\u001b[39m \u001b[34mpurrr  \u001b[39m 0.3.4 \n",
      "\u001b[32m✔\u001b[39m \u001b[34mtibble \u001b[39m 3.1.8      \u001b[32m✔\u001b[39m \u001b[34mdplyr  \u001b[39m 1.0.10\n",
      "\u001b[32m✔\u001b[39m \u001b[34mtidyr  \u001b[39m 1.2.1      \u001b[32m✔\u001b[39m \u001b[34mstringr\u001b[39m 1.4.1 \n",
      "\u001b[32m✔\u001b[39m \u001b[34mreadr  \u001b[39m 2.1.2      \u001b[32m✔\u001b[39m \u001b[34mforcats\u001b[39m 0.5.2 \n",
      "── \u001b[1mConflicts\u001b[22m ────────────────────────────────────────── tidyverse_conflicts() ──\n",
      "\u001b[31m✖\u001b[39m \u001b[34mdplyr\u001b[39m::\u001b[32mfilter()\u001b[39m masks \u001b[34mstats\u001b[39m::filter()\n",
      "\u001b[31m✖\u001b[39m \u001b[34mdplyr\u001b[39m::\u001b[32mlag()\u001b[39m    masks \u001b[34mstats\u001b[39m::lag()\n"
     ]
    }
   ],
   "source": [
    "library(datateachr) # <- might contain the data you picked!\n",
    "library(tidyverse)"
   ]
  },
  {
   "cell_type": "markdown",
   "id": "14489cf2-f1d4-4235-aa89-d94c847914a0",
   "metadata": {},
   "source": [
    "---\n",
    "title: \"Mini Data Analysis Milestone 2\"\n",
    "output: html_document\n",
    "---"
   ]
  },
  {
   "cell_type": "markdown",
   "id": "c273a4ea-523e-41cf-ad5b-6dd18858797c",
   "metadata": {
    "tags": []
   },
   "source": [
    "*To complete this milestone, you can edit [this `.rmd` file](https://raw.githubusercontent.com/UBC-STAT/stat545.stat.ubc.ca/master/content/mini-project/mini-project-2.Rmd) directly. Fill in the sections that are commented out with `<!--- start your work here--->`. When you are done, make sure to knit to an `.md` file by changing the output in the YAML header to `github_document`, before submitting a tagged release on canvas.*\n",
    "\n",
    "# Welcome to your second (and last) milestone in your mini data analysis project!"
   ]
  },
  {
   "cell_type": "markdown",
   "id": "8234165d-0ce0-4e99-af7c-2953af1b9996",
   "metadata": {},
   "source": [
    "In Milestone 1, you explored your data, came up with research questions, and obtained some results by making summary tables and graphs. This time, we will first explore more in depth the concept of *tidy data.* Then, you'll be sharpening some of the results you obtained from your previous milestone by:\n",
    "\n",
    "-   Manipulating special data types in R: factors and/or dates and times.\n",
    "-   Fitting a model object to your data, and extract a result.\n",
    "-   Reading and writing data as separate files.\n",
    "\n",
    "**NOTE**: The main purpose of the mini data analysis is to integrate what you learn in class in an analysis. Although each milestone provides a framework for you to conduct your analysis, it's possible that you might find the instructions too rigid for your data set. If this is the case, you may deviate from the instructions -- just make sure you're demonstrating a wide range of tools and techniques taught in this class.\n"
   ]
  },
  {
   "cell_type": "markdown",
   "id": "cb96da23-19bc-49b5-8ddf-b48e611c8ada",
   "metadata": {},
   "source": [
    "# Instructions\n",
    "\n",
    "**To complete this milestone**, edit [this very `.Rmd` file](https://raw.githubusercontent.com/UBC-STAT/stat545.stat.ubc.ca/master/content/mini-project/mini-project-2.Rmd) directly. Fill in the sections that are tagged with `<!--- start your work here--->`.\n",
    "\n",
    "**To submit this milestone**, make sure to knit this `.Rmd` file to an `.md` file by changing the YAML output settings from `output: html_document` to `output: github_document`. Commit and push all of your work to your mini-analysis GitHub repository, and tag a release on GitHub. Then, submit a link to your tagged release on canvas.\n",
    "\n",
    "**Points**: This milestone is worth 55 points (compared to the 45 points of the Milestone 1): 45 for your analysis, and 10 for your entire mini-analysis GitHub repository. Details follow.\n",
    "\n",
    "**Research Questions**: In Milestone 1, you chose two research questions to focus on. Wherever realistic, your work in this milestone should relate to these research questions whenever we ask for justification behind your work. In the case that some tasks in this milestone don't align well with one of your research questions, feel free to discuss your results in the context of a different research question."
   ]
  },
  {
   "cell_type": "markdown",
   "id": "cf4fdb5a-3706-4b60-9c3d-2c369dc1dca5",
   "metadata": {},
   "source": [
    "# Learning Objectives\n",
    "\n",
    "By the end of this milestone, you should:\n",
    "\n",
    "-   Understand what *tidy* data is, and how to create it using `tidyr`.\n",
    "-   Generate a reproducible and clear report using R Markdown.\n",
    "-   Manipulating special data types in R: factors and/or dates and times.\n",
    "-   Fitting a model object to your data, and extract a result.\n",
    "-   Reading and writing data as separate files."
   ]
  },
  {
   "cell_type": "markdown",
   "id": "c5b80bb6-30a1-4d27-9c6f-bba254c058b3",
   "metadata": {},
   "source": [
    "# Setup\n",
    "\n",
    "Begin by loading your data and the tidyverse package below:"
   ]
  },
  {
   "cell_type": "markdown",
   "id": "9e090f14-8fb4-4959-9a7c-f6c39db1e5e7",
   "metadata": {},
   "source": [
    "# Task 1: Tidy your data (15 points)\n",
    "\n",
    "In this task, we will do several exercises to reshape our data. The goal here is to understand how to do this reshaping with the `tidyr` package.\n",
    "\n",
    "A reminder of the definition of *tidy* data:\n",
    "\n",
    "-   Each row is an **observation**\n",
    "-   Each column is a **variable**\n",
    "-   Each cell is a **value**\n",
    "\n",
    "*Tidy'ing* data is sometimes necessary because it can simplify computation. Other times it can be nice to organize data so that it can be easier to understand when read manually.\n",
    "\n",
    "### 2.1 (2.5 points)\n",
    "\n",
    "Based on the definition above, can you identify if your data is tidy or untidy? Go through all your columns, or if you have \\>8 variables, just pick 8, and explain whether the data is untidy or tidy."
   ]
  },
  {
   "cell_type": "markdown",
   "id": "5a47aabe-e33d-486c-b2a8-772ab8742ff0",
   "metadata": {},
   "source": [
    "<!--------------------------- Start your work below --------------------------->\n",
    "\n",
    "<!----------------------------------------------------------------------------->"
   ]
  },
  {
   "cell_type": "markdown",
   "id": "9bd1db76-3798-4f23-abd7-f8a10a4734cb",
   "metadata": {},
   "source": [
    "<!--------------------------- Start your work below --------------------------->\n",
    "\n",
    "<!----------------------------------------------------------------------------->"
   ]
  },
  {
   "cell_type": "code",
   "execution_count": 2,
   "id": "824333d9-3759-4918-87f6-eedfc47c308f",
   "metadata": {},
   "outputs": [
    {
     "data": {
      "text/html": [
       "<table class=\"dataframe\">\n",
       "<caption>A tibble: 6 × 5</caption>\n",
       "<thead>\n",
       "\t<tr><th scope=col>name</th><th scope=col>first_genre</th><th scope=col>release_date</th><th scope=col>original_price</th><th scope=col>discount_price</th></tr>\n",
       "\t<tr><th scope=col>&lt;chr&gt;</th><th scope=col>&lt;chr&gt;</th><th scope=col>&lt;chr&gt;</th><th scope=col>&lt;dbl&gt;</th><th scope=col>&lt;dbl&gt;</th></tr>\n",
       "</thead>\n",
       "<tbody>\n",
       "\t<tr><td>DOOM                                      </td><td>Action</td><td>May 12, 2016</td><td>19.99</td><td>14.99</td></tr>\n",
       "\t<tr><td>PLAYERUNKNOWN'S BATTLEGROUNDS             </td><td>Action</td><td>Dec 21, 2017</td><td>29.99</td><td>   NA</td></tr>\n",
       "\t<tr><td>BATTLETECH                                </td><td>Action</td><td>Apr 24, 2018</td><td>39.99</td><td>   NA</td></tr>\n",
       "\t<tr><td>DayZ                                      </td><td>Action</td><td>Dec 13, 2018</td><td>44.99</td><td>   NA</td></tr>\n",
       "\t<tr><td>EVE Online                                </td><td>Action</td><td>May 6, 2003 </td><td> 0.00</td><td>   NA</td></tr>\n",
       "\t<tr><td>Grand Theft Auto V: Premium Online Edition</td><td>Action</td><td>NaN         </td><td>   NA</td><td>35.18</td></tr>\n",
       "</tbody>\n",
       "</table>\n"
      ],
      "text/latex": [
       "A tibble: 6 × 5\n",
       "\\begin{tabular}{lllll}\n",
       " name & first\\_genre & release\\_date & original\\_price & discount\\_price\\\\\n",
       " <chr> & <chr> & <chr> & <dbl> & <dbl>\\\\\n",
       "\\hline\n",
       "\t DOOM                                       & Action & May 12, 2016 & 19.99 & 14.99\\\\\n",
       "\t PLAYERUNKNOWN'S BATTLEGROUNDS              & Action & Dec 21, 2017 & 29.99 &    NA\\\\\n",
       "\t BATTLETECH                                 & Action & Apr 24, 2018 & 39.99 &    NA\\\\\n",
       "\t DayZ                                       & Action & Dec 13, 2018 & 44.99 &    NA\\\\\n",
       "\t EVE Online                                 & Action & May 6, 2003  &  0.00 &    NA\\\\\n",
       "\t Grand Theft Auto V: Premium Online Edition & Action & NaN          &    NA & 35.18\\\\\n",
       "\\end{tabular}\n"
      ],
      "text/markdown": [
       "\n",
       "A tibble: 6 × 5\n",
       "\n",
       "| name &lt;chr&gt; | first_genre &lt;chr&gt; | release_date &lt;chr&gt; | original_price &lt;dbl&gt; | discount_price &lt;dbl&gt; |\n",
       "|---|---|---|---|---|\n",
       "| DOOM                                       | Action | May 12, 2016 | 19.99 | 14.99 |\n",
       "| PLAYERUNKNOWN'S BATTLEGROUNDS              | Action | Dec 21, 2017 | 29.99 |    NA |\n",
       "| BATTLETECH                                 | Action | Apr 24, 2018 | 39.99 |    NA |\n",
       "| DayZ                                       | Action | Dec 13, 2018 | 44.99 |    NA |\n",
       "| EVE Online                                 | Action | May 6, 2003  |  0.00 |    NA |\n",
       "| Grand Theft Auto V: Premium Online Edition | Action | NaN          |    NA | 35.18 |\n",
       "\n"
      ],
      "text/plain": [
       "  name                                       first_genre release_date\n",
       "1 DOOM                                       Action      May 12, 2016\n",
       "2 PLAYERUNKNOWN'S BATTLEGROUNDS              Action      Dec 21, 2017\n",
       "3 BATTLETECH                                 Action      Apr 24, 2018\n",
       "4 DayZ                                       Action      Dec 13, 2018\n",
       "5 EVE Online                                 Action      May 6, 2003 \n",
       "6 Grand Theft Auto V: Premium Online Edition Action      NaN         \n",
       "  original_price discount_price\n",
       "1 19.99          14.99         \n",
       "2 29.99             NA         \n",
       "3 39.99             NA         \n",
       "4 44.99             NA         \n",
       "5  0.00             NA         \n",
       "6    NA          35.18         "
      ]
     },
     "metadata": {},
     "output_type": "display_data"
    }
   ],
   "source": [
    "games_with_first_genre <- steam_games %>%\n",
    "                            mutate(first_genre = gsub(\",.*$\", \"\", genre)) %>%\n",
    "                            select(name, first_genre, release_date, original_price, discount_price)\n",
    "games_subset <- filter(games_with_first_genre, first_genre %in% c(\"Action\", \"Adventure\", \"Racing\", \"RPG\"))\n",
    "head(games_subset)"
   ]
  },
  {
   "cell_type": "markdown",
   "id": "0bf81440-5e2d-403c-9b4b-e387348760ac",
   "metadata": {},
   "source": [
    "### Explanation\n",
    "My data is tidy because each row is an observation, representing a game with its corresponding information. Each column is a variable, `name` is a variable representing the name of the game, `first_genre` is a variable representing the genre of the game, `release_date` is a variable representing the date the game is released, `original_price` is a variable representing the price when the game is published, `discount_price` is a variable representing the price when the game has a discount. Each cell is a value."
   ]
  },
  {
   "cell_type": "markdown",
   "id": "e3acda2f-88fc-4431-8762-c40187b23e8c",
   "metadata": {},
   "source": [
    "### 2.2 (5 points)\n",
    "\n",
    "Now, if your data is tidy, untidy it! Then, tidy it back to it's original state.\n",
    "\n",
    "If your data is untidy, then tidy it! Then, untidy it back to it's original state.\n",
    "\n",
    "Be sure to explain your reasoning for this task. Show us the \"before\" and \"after\".\n"
   ]
  },
  {
   "cell_type": "markdown",
   "id": "42590b1c-0749-415e-91fd-2817e71e9ea2",
   "metadata": {},
   "source": [
    "### Explanation\n",
    "Currently the data is tidy, by combining columns `original_price` and `discount_price` into `change_in_price`, we make the data untidy because `change_in_price` is representing two different prices that has different meaning when analyzing the data, violating the tidy rules (each column is a variable, but not this column has 2 variables)."
   ]
  },
  {
   "cell_type": "code",
   "execution_count": 3,
   "id": "926127a5-475e-4ba2-8862-55906fc248f7",
   "metadata": {},
   "outputs": [
    {
     "data": {
      "text/html": [
       "<table class=\"dataframe\">\n",
       "<caption>A tibble: 6 × 4</caption>\n",
       "<thead>\n",
       "\t<tr><th scope=col>name</th><th scope=col>first_genre</th><th scope=col>release_date</th><th scope=col>change_in_price</th></tr>\n",
       "\t<tr><th scope=col>&lt;chr&gt;</th><th scope=col>&lt;chr&gt;</th><th scope=col>&lt;chr&gt;</th><th scope=col>&lt;chr&gt;</th></tr>\n",
       "</thead>\n",
       "<tbody>\n",
       "\t<tr><td>DOOM                                      </td><td>Action</td><td>May 12, 2016</td><td>19.99 to 14.99</td></tr>\n",
       "\t<tr><td>PLAYERUNKNOWN'S BATTLEGROUNDS             </td><td>Action</td><td>Dec 21, 2017</td><td>29.99 to NA   </td></tr>\n",
       "\t<tr><td>BATTLETECH                                </td><td>Action</td><td>Apr 24, 2018</td><td>39.99 to NA   </td></tr>\n",
       "\t<tr><td>DayZ                                      </td><td>Action</td><td>Dec 13, 2018</td><td>44.99 to NA   </td></tr>\n",
       "\t<tr><td>EVE Online                                </td><td>Action</td><td>May 6, 2003 </td><td>0 to NA       </td></tr>\n",
       "\t<tr><td>Grand Theft Auto V: Premium Online Edition</td><td>Action</td><td>NaN         </td><td>NA to 35.18   </td></tr>\n",
       "</tbody>\n",
       "</table>\n"
      ],
      "text/latex": [
       "A tibble: 6 × 4\n",
       "\\begin{tabular}{llll}\n",
       " name & first\\_genre & release\\_date & change\\_in\\_price\\\\\n",
       " <chr> & <chr> & <chr> & <chr>\\\\\n",
       "\\hline\n",
       "\t DOOM                                       & Action & May 12, 2016 & 19.99 to 14.99\\\\\n",
       "\t PLAYERUNKNOWN'S BATTLEGROUNDS              & Action & Dec 21, 2017 & 29.99 to NA   \\\\\n",
       "\t BATTLETECH                                 & Action & Apr 24, 2018 & 39.99 to NA   \\\\\n",
       "\t DayZ                                       & Action & Dec 13, 2018 & 44.99 to NA   \\\\\n",
       "\t EVE Online                                 & Action & May 6, 2003  & 0 to NA       \\\\\n",
       "\t Grand Theft Auto V: Premium Online Edition & Action & NaN          & NA to 35.18   \\\\\n",
       "\\end{tabular}\n"
      ],
      "text/markdown": [
       "\n",
       "A tibble: 6 × 4\n",
       "\n",
       "| name &lt;chr&gt; | first_genre &lt;chr&gt; | release_date &lt;chr&gt; | change_in_price &lt;chr&gt; |\n",
       "|---|---|---|---|\n",
       "| DOOM                                       | Action | May 12, 2016 | 19.99 to 14.99 |\n",
       "| PLAYERUNKNOWN'S BATTLEGROUNDS              | Action | Dec 21, 2017 | 29.99 to NA    |\n",
       "| BATTLETECH                                 | Action | Apr 24, 2018 | 39.99 to NA    |\n",
       "| DayZ                                       | Action | Dec 13, 2018 | 44.99 to NA    |\n",
       "| EVE Online                                 | Action | May 6, 2003  | 0 to NA        |\n",
       "| Grand Theft Auto V: Premium Online Edition | Action | NaN          | NA to 35.18    |\n",
       "\n"
      ],
      "text/plain": [
       "  name                                       first_genre release_date\n",
       "1 DOOM                                       Action      May 12, 2016\n",
       "2 PLAYERUNKNOWN'S BATTLEGROUNDS              Action      Dec 21, 2017\n",
       "3 BATTLETECH                                 Action      Apr 24, 2018\n",
       "4 DayZ                                       Action      Dec 13, 2018\n",
       "5 EVE Online                                 Action      May 6, 2003 \n",
       "6 Grand Theft Auto V: Premium Online Edition Action      NaN         \n",
       "  change_in_price\n",
       "1 19.99 to 14.99 \n",
       "2 29.99 to NA    \n",
       "3 39.99 to NA    \n",
       "4 44.99 to NA    \n",
       "5 0 to NA        \n",
       "6 NA to 35.18    "
      ]
     },
     "metadata": {},
     "output_type": "display_data"
    }
   ],
   "source": [
    "untidy <- games_subset %>%\n",
    "    unite(\"change_in_price\", original_price:discount_price, sep = \" to \", remove = TRUE);\n",
    "head(untidy)"
   ]
  },
  {
   "cell_type": "markdown",
   "id": "6cdb6c19-8667-44ec-a3db-dec5cb9c2fd2",
   "metadata": {},
   "source": [
    "### Tidy it back\n",
    "To tidy it back, we could use the `separate()` function to split the column back to 2."
   ]
  },
  {
   "cell_type": "code",
   "execution_count": 4,
   "id": "f5bb2ebe-b096-4926-96a5-c1aa99205794",
   "metadata": {},
   "outputs": [
    {
     "data": {
      "text/html": [
       "<table class=\"dataframe\">\n",
       "<caption>A tibble: 6 × 5</caption>\n",
       "<thead>\n",
       "\t<tr><th scope=col>name</th><th scope=col>first_genre</th><th scope=col>release_date</th><th scope=col>original_price</th><th scope=col>discount_price</th></tr>\n",
       "\t<tr><th scope=col>&lt;chr&gt;</th><th scope=col>&lt;chr&gt;</th><th scope=col>&lt;chr&gt;</th><th scope=col>&lt;dbl&gt;</th><th scope=col>&lt;dbl&gt;</th></tr>\n",
       "</thead>\n",
       "<tbody>\n",
       "\t<tr><td>DOOM                                      </td><td>Action</td><td>May 12, 2016</td><td>19.99</td><td>14.99</td></tr>\n",
       "\t<tr><td>PLAYERUNKNOWN'S BATTLEGROUNDS             </td><td>Action</td><td>Dec 21, 2017</td><td>29.99</td><td>   NA</td></tr>\n",
       "\t<tr><td>BATTLETECH                                </td><td>Action</td><td>Apr 24, 2018</td><td>39.99</td><td>   NA</td></tr>\n",
       "\t<tr><td>DayZ                                      </td><td>Action</td><td>Dec 13, 2018</td><td>44.99</td><td>   NA</td></tr>\n",
       "\t<tr><td>EVE Online                                </td><td>Action</td><td>May 6, 2003 </td><td> 0.00</td><td>   NA</td></tr>\n",
       "\t<tr><td>Grand Theft Auto V: Premium Online Edition</td><td>Action</td><td>NaN         </td><td>   NA</td><td>35.18</td></tr>\n",
       "</tbody>\n",
       "</table>\n"
      ],
      "text/latex": [
       "A tibble: 6 × 5\n",
       "\\begin{tabular}{lllll}\n",
       " name & first\\_genre & release\\_date & original\\_price & discount\\_price\\\\\n",
       " <chr> & <chr> & <chr> & <dbl> & <dbl>\\\\\n",
       "\\hline\n",
       "\t DOOM                                       & Action & May 12, 2016 & 19.99 & 14.99\\\\\n",
       "\t PLAYERUNKNOWN'S BATTLEGROUNDS              & Action & Dec 21, 2017 & 29.99 &    NA\\\\\n",
       "\t BATTLETECH                                 & Action & Apr 24, 2018 & 39.99 &    NA\\\\\n",
       "\t DayZ                                       & Action & Dec 13, 2018 & 44.99 &    NA\\\\\n",
       "\t EVE Online                                 & Action & May 6, 2003  &  0.00 &    NA\\\\\n",
       "\t Grand Theft Auto V: Premium Online Edition & Action & NaN          &    NA & 35.18\\\\\n",
       "\\end{tabular}\n"
      ],
      "text/markdown": [
       "\n",
       "A tibble: 6 × 5\n",
       "\n",
       "| name &lt;chr&gt; | first_genre &lt;chr&gt; | release_date &lt;chr&gt; | original_price &lt;dbl&gt; | discount_price &lt;dbl&gt; |\n",
       "|---|---|---|---|---|\n",
       "| DOOM                                       | Action | May 12, 2016 | 19.99 | 14.99 |\n",
       "| PLAYERUNKNOWN'S BATTLEGROUNDS              | Action | Dec 21, 2017 | 29.99 |    NA |\n",
       "| BATTLETECH                                 | Action | Apr 24, 2018 | 39.99 |    NA |\n",
       "| DayZ                                       | Action | Dec 13, 2018 | 44.99 |    NA |\n",
       "| EVE Online                                 | Action | May 6, 2003  |  0.00 |    NA |\n",
       "| Grand Theft Auto V: Premium Online Edition | Action | NaN          |    NA | 35.18 |\n",
       "\n"
      ],
      "text/plain": [
       "  name                                       first_genre release_date\n",
       "1 DOOM                                       Action      May 12, 2016\n",
       "2 PLAYERUNKNOWN'S BATTLEGROUNDS              Action      Dec 21, 2017\n",
       "3 BATTLETECH                                 Action      Apr 24, 2018\n",
       "4 DayZ                                       Action      Dec 13, 2018\n",
       "5 EVE Online                                 Action      May 6, 2003 \n",
       "6 Grand Theft Auto V: Premium Online Edition Action      NaN         \n",
       "  original_price discount_price\n",
       "1 19.99          14.99         \n",
       "2 29.99             NA         \n",
       "3 39.99             NA         \n",
       "4 44.99             NA         \n",
       "5  0.00             NA         \n",
       "6    NA          35.18         "
      ]
     },
     "metadata": {},
     "output_type": "display_data"
    }
   ],
   "source": [
    "tidy <- untidy %>%\n",
    "    separate(change_in_price, \n",
    "             into = c(\"original_price\", \"discount_price\"), \n",
    "             sep = ' to ', \n",
    "             convert = TRUE, \n",
    "             remove = TRUE)\n",
    "head(tidy)"
   ]
  },
  {
   "cell_type": "markdown",
   "id": "a2035769-ddf3-4efa-8eb8-020c3f888a75",
   "metadata": {},
   "source": [
    "### 2.3 (7.5 points)\n",
    "\n",
    "Now, you should be more familiar with your data, and also have made progress in answering your research questions. Based on your interest, and your analyses, pick 2 of the 4 research questions to continue your analysis in the next four tasks:"
   ]
  },
  {
   "cell_type": "markdown",
   "id": "ad68b209-798d-480e-87b6-a8560ee0a8ff",
   "metadata": {},
   "source": [
    "<!-------------------------- Start your work below ---------------------------->\n",
    "\n",
    "1.  *Analyze how prices of games evolve over time, that is, how prices of games change depending on the year they are released.*\n",
    "2.  *Is there any relationship between the reviews and the price of the game?*\n",
    "\n",
    "<!----------------------------------------------------------------------------->"
   ]
  },
  {
   "cell_type": "markdown",
   "id": "37e5d6ec-e12d-43b3-bee1-9d1b9060af13",
   "metadata": {},
   "source": [
    "Explain your decision for choosing the above two research questions."
   ]
  },
  {
   "cell_type": "markdown",
   "id": "ac1ba349-1beb-4f49-9b2b-5a92a496d8c8",
   "metadata": {},
   "source": [
    "### Explanation\n",
    "The first question is interesting in nature because the number of games published in each year reflects the overall market productivity. The second question will have some deeper implications on how users will write their review based on the price of the game. Is a game with high price will have a higher expectation than cheaper games?"
   ]
  },
  {
   "cell_type": "markdown",
   "id": "1a67abec-4ff2-4964-bb87-3084d97cdb97",
   "metadata": {},
   "source": [
    "<!--------------------------- Start your work below --------------------------->\n",
    "\n",
    "<!----------------------------------------------------------------------------->\n"
   ]
  },
  {
   "cell_type": "markdown",
   "id": "29f98d2c-c5de-4a4e-bea1-f3c8983b9187",
   "metadata": {},
   "source": [
    "Now, try to choose a version of your data that you think will be appropriate to answer these 2 questions. Use between 4 and 8 functions that we've covered so far (i.e. by filtering, cleaning, tidy'ing, dropping irrelevant columns, etc.)."
   ]
  },
  {
   "cell_type": "code",
   "execution_count": 5,
   "id": "159b269e-7eae-4b40-9538-caa7daa098c8",
   "metadata": {},
   "outputs": [
    {
     "name": "stdout",
     "output_type": "stream",
     "text": [
      "Rows: 40,833\n",
      "Columns: 21\n",
      "$ id                       \u001b[3m\u001b[90m<dbl>\u001b[39m\u001b[23m 1, 2, 3, 4, 5, 6, 7, 8, 9, 10, 11, 12, 13, 14…\n",
      "$ url                      \u001b[3m\u001b[90m<chr>\u001b[39m\u001b[23m \"https://store.steampowered.com/app/379720/DO…\n",
      "$ types                    \u001b[3m\u001b[90m<chr>\u001b[39m\u001b[23m \"app\", \"app\", \"app\", \"app\", \"app\", \"bundle\", …\n",
      "$ name                     \u001b[3m\u001b[90m<chr>\u001b[39m\u001b[23m \"DOOM\", \"PLAYERUNKNOWN'S BATTLEGROUNDS\", \"BAT…\n",
      "$ desc_snippet             \u001b[3m\u001b[90m<chr>\u001b[39m\u001b[23m \"Now includes all three premium DLC packs (Un…\n",
      "$ recent_reviews           \u001b[3m\u001b[90m<chr>\u001b[39m\u001b[23m \"Very Positive,(554),- 89% of the 554 user re…\n",
      "$ all_reviews              \u001b[3m\u001b[90m<chr>\u001b[39m\u001b[23m \"Very Positive,(42,550),- 92% of the 42,550 u…\n",
      "$ release_date             \u001b[3m\u001b[90m<chr>\u001b[39m\u001b[23m \"May 12, 2016\", \"Dec 21, 2017\", \"Apr 24, 2018…\n",
      "$ developer                \u001b[3m\u001b[90m<chr>\u001b[39m\u001b[23m \"id Software\", \"PUBG Corporation\", \"Harebrain…\n",
      "$ publisher                \u001b[3m\u001b[90m<chr>\u001b[39m\u001b[23m \"Bethesda Softworks,Bethesda Softworks\", \"PUB…\n",
      "$ popular_tags             \u001b[3m\u001b[90m<chr>\u001b[39m\u001b[23m \"FPS,Gore,Action,Demons,Shooter,First-Person,…\n",
      "$ game_details             \u001b[3m\u001b[90m<chr>\u001b[39m\u001b[23m \"Single-player,Multi-player,Co-op,Steam Achie…\n",
      "$ languages                \u001b[3m\u001b[90m<chr>\u001b[39m\u001b[23m \"English,French,Italian,German,Spanish - Spai…\n",
      "$ achievements             \u001b[3m\u001b[90m<dbl>\u001b[39m\u001b[23m 54, 37, 128, NA, NA, NA, 51, 55, 34, 43, 72, …\n",
      "$ genre                    \u001b[3m\u001b[90m<chr>\u001b[39m\u001b[23m \"Action\", \"Action,Adventure,Massively Multipl…\n",
      "$ game_description         \u001b[3m\u001b[90m<chr>\u001b[39m\u001b[23m \"About This Game Developed by id software, th…\n",
      "$ mature_content           \u001b[3m\u001b[90m<chr>\u001b[39m\u001b[23m NA, \"Mature Content Description  The develope…\n",
      "$ minimum_requirements     \u001b[3m\u001b[90m<chr>\u001b[39m\u001b[23m \"Minimum:,OS:,Windows 7/8.1/10 (64-bit versio…\n",
      "$ recommended_requirements \u001b[3m\u001b[90m<chr>\u001b[39m\u001b[23m \"Recommended:,OS:,Windows 7/8.1/10 (64-bit ve…\n",
      "$ original_price           \u001b[3m\u001b[90m<dbl>\u001b[39m\u001b[23m 19.99, 29.99, 39.99, 44.99, 0.00, NA, 59.99, …\n",
      "$ discount_price           \u001b[3m\u001b[90m<dbl>\u001b[39m\u001b[23m 14.99, NA, NA, NA, NA, 35.18, 70.42, 17.58, N…\n"
     ]
    }
   ],
   "source": [
    "glimpse(steam_games)"
   ]
  },
  {
   "cell_type": "code",
   "execution_count": 6,
   "id": "8e42e19f-ad06-43fb-8b20-4a2ea51aea74",
   "metadata": {},
   "outputs": [
    {
     "data": {
      "text/html": [
       "<table class=\"dataframe\">\n",
       "<caption>A tibble: 6 × 7</caption>\n",
       "<thead>\n",
       "\t<tr><th scope=col>id</th><th scope=col>release_year</th><th scope=col>languages_supported</th><th scope=col>ratings</th><th scope=col>main_genre</th><th scope=col>original_price</th><th scope=col>discount_price</th></tr>\n",
       "\t<tr><th scope=col>&lt;dbl&gt;</th><th scope=col>&lt;chr&gt;</th><th scope=col>&lt;dbl&gt;</th><th scope=col>&lt;chr&gt;</th><th scope=col>&lt;chr&gt;</th><th scope=col>&lt;dbl&gt;</th><th scope=col>&lt;dbl&gt;</th></tr>\n",
       "</thead>\n",
       "<tbody>\n",
       "\t<tr><td>1</td><td>2016</td><td>10</td><td>Very Positive</td><td>Action</td><td>19.99</td><td>14.99</td></tr>\n",
       "\t<tr><td>2</td><td>2017</td><td>17</td><td>Mixed        </td><td>Action</td><td>29.99</td><td>   NA</td></tr>\n",
       "\t<tr><td>3</td><td>2018</td><td> 4</td><td>Mixed        </td><td>Action</td><td>39.99</td><td>   NA</td></tr>\n",
       "\t<tr><td>4</td><td>2018</td><td> 9</td><td>Mixed        </td><td>Action</td><td>44.99</td><td>   NA</td></tr>\n",
       "\t<tr><td>5</td><td>2003</td><td> 4</td><td>Mixed        </td><td>Action</td><td> 0.00</td><td>   NA</td></tr>\n",
       "\t<tr><td>6</td><td>NA  </td><td>12</td><td>NaN          </td><td>Action</td><td>   NA</td><td>35.18</td></tr>\n",
       "</tbody>\n",
       "</table>\n"
      ],
      "text/latex": [
       "A tibble: 6 × 7\n",
       "\\begin{tabular}{lllllll}\n",
       " id & release\\_year & languages\\_supported & ratings & main\\_genre & original\\_price & discount\\_price\\\\\n",
       " <dbl> & <chr> & <dbl> & <chr> & <chr> & <dbl> & <dbl>\\\\\n",
       "\\hline\n",
       "\t 1 & 2016 & 10 & Very Positive & Action & 19.99 & 14.99\\\\\n",
       "\t 2 & 2017 & 17 & Mixed         & Action & 29.99 &    NA\\\\\n",
       "\t 3 & 2018 &  4 & Mixed         & Action & 39.99 &    NA\\\\\n",
       "\t 4 & 2018 &  9 & Mixed         & Action & 44.99 &    NA\\\\\n",
       "\t 5 & 2003 &  4 & Mixed         & Action &  0.00 &    NA\\\\\n",
       "\t 6 & NA   & 12 & NaN           & Action &    NA & 35.18\\\\\n",
       "\\end{tabular}\n"
      ],
      "text/markdown": [
       "\n",
       "A tibble: 6 × 7\n",
       "\n",
       "| id &lt;dbl&gt; | release_year &lt;chr&gt; | languages_supported &lt;dbl&gt; | ratings &lt;chr&gt; | main_genre &lt;chr&gt; | original_price &lt;dbl&gt; | discount_price &lt;dbl&gt; |\n",
       "|---|---|---|---|---|---|---|\n",
       "| 1 | 2016 | 10 | Very Positive | Action | 19.99 | 14.99 |\n",
       "| 2 | 2017 | 17 | Mixed         | Action | 29.99 |    NA |\n",
       "| 3 | 2018 |  4 | Mixed         | Action | 39.99 |    NA |\n",
       "| 4 | 2018 |  9 | Mixed         | Action | 44.99 |    NA |\n",
       "| 5 | 2003 |  4 | Mixed         | Action |  0.00 |    NA |\n",
       "| 6 | NA   | 12 | NaN           | Action |    NA | 35.18 |\n",
       "\n"
      ],
      "text/plain": [
       "  id release_year languages_supported ratings       main_genre original_price\n",
       "1 1  2016         10                  Very Positive Action     19.99         \n",
       "2 2  2017         17                  Mixed         Action     29.99         \n",
       "3 3  2018          4                  Mixed         Action     39.99         \n",
       "4 4  2018          9                  Mixed         Action     44.99         \n",
       "5 5  2003          4                  Mixed         Action      0.00         \n",
       "6 6  NA           12                  NaN           Action        NA         \n",
       "  discount_price\n",
       "1 14.99         \n",
       "2    NA         \n",
       "3    NA         \n",
       "4    NA         \n",
       "5    NA         \n",
       "6 35.18         "
      ]
     },
     "metadata": {},
     "output_type": "display_data"
    }
   ],
   "source": [
    "reshape_steam_games <- steam_games %>%\n",
    "    mutate(languages_supported = str_count(languages, ',') + 1) %>%\n",
    "    separate(genre, into = c(\"main_genre\"), sep = \",\", extra = \"drop\", remove = FALSE) %>%\n",
    "    mutate(release_year = format(as.Date(release_date, '%b %d, %Y'), '%Y')) %>%\n",
    "    separate(recent_reviews, into = c(\"ratings\"), sep = ',', extra = \"drop\", remove = FALSE) %>%\n",
    "    select(id, release_year, languages_supported, ratings, main_genre, original_price, discount_price)\n",
    "head(reshape_steam_games)"
   ]
  },
  {
   "cell_type": "markdown",
   "id": "92bde4fc-5433-4006-a017-eca947bd7fe4",
   "metadata": {},
   "source": [
    "# Task 2: Special Data Types (10)\n",
    "\n",
    "For this exercise, you'll be choosing two of the three tasks below -- both tasks that you choose are worth 5 points each.\n",
    "\n",
    "But first, tasks 1 and 2 below ask you to modify a plot you made in a previous milestone. The plot you choose should involve plotting across at least three groups (whether by facetting, or using an aesthetic like colour). Place this plot below (you're allowed to modify the plot if you'd like). If you don't have such a plot, you'll need to make one. Place the code for your plot below."
   ]
  },
  {
   "cell_type": "code",
   "execution_count": 7,
   "id": "e6ca7777-fa88-443a-adbf-d97f42c23c62",
   "metadata": {},
   "outputs": [
    {
     "data": {
      "text/html": [
       "<table class=\"dataframe\">\n",
       "<caption>A tibble: 6 × 8</caption>\n",
       "<thead>\n",
       "\t<tr><th scope=col>id</th><th scope=col>release_year</th><th scope=col>languages_supported</th><th scope=col>ratings</th><th scope=col>main_genre</th><th scope=col>original_price</th><th scope=col>discount_price</th><th scope=col>year_categorized</th></tr>\n",
       "\t<tr><th scope=col>&lt;dbl&gt;</th><th scope=col>&lt;chr&gt;</th><th scope=col>&lt;dbl&gt;</th><th scope=col>&lt;chr&gt;</th><th scope=col>&lt;chr&gt;</th><th scope=col>&lt;dbl&gt;</th><th scope=col>&lt;dbl&gt;</th><th scope=col>&lt;chr&gt;</th></tr>\n",
       "</thead>\n",
       "<tbody>\n",
       "\t<tr><td>1</td><td>2016</td><td>10</td><td>Very Positive</td><td>Action</td><td>19.99</td><td>14.99</td><td>Current</td></tr>\n",
       "\t<tr><td>2</td><td>2017</td><td>17</td><td>Mixed        </td><td>Action</td><td>29.99</td><td>   NA</td><td>Current</td></tr>\n",
       "\t<tr><td>3</td><td>2018</td><td> 4</td><td>Mixed        </td><td>Action</td><td>39.99</td><td>   NA</td><td>Current</td></tr>\n",
       "\t<tr><td>4</td><td>2018</td><td> 9</td><td>Mixed        </td><td>Action</td><td>44.99</td><td>   NA</td><td>Current</td></tr>\n",
       "\t<tr><td>5</td><td>2003</td><td> 4</td><td>Mixed        </td><td>Action</td><td> 0.00</td><td>   NA</td><td>Recent </td></tr>\n",
       "\t<tr><td>6</td><td>NA  </td><td>12</td><td>NaN          </td><td>Action</td><td>   NA</td><td>35.18</td><td>NA     </td></tr>\n",
       "</tbody>\n",
       "</table>\n"
      ],
      "text/latex": [
       "A tibble: 6 × 8\n",
       "\\begin{tabular}{llllllll}\n",
       " id & release\\_year & languages\\_supported & ratings & main\\_genre & original\\_price & discount\\_price & year\\_categorized\\\\\n",
       " <dbl> & <chr> & <dbl> & <chr> & <chr> & <dbl> & <dbl> & <chr>\\\\\n",
       "\\hline\n",
       "\t 1 & 2016 & 10 & Very Positive & Action & 19.99 & 14.99 & Current\\\\\n",
       "\t 2 & 2017 & 17 & Mixed         & Action & 29.99 &    NA & Current\\\\\n",
       "\t 3 & 2018 &  4 & Mixed         & Action & 39.99 &    NA & Current\\\\\n",
       "\t 4 & 2018 &  9 & Mixed         & Action & 44.99 &    NA & Current\\\\\n",
       "\t 5 & 2003 &  4 & Mixed         & Action &  0.00 &    NA & Recent \\\\\n",
       "\t 6 & NA   & 12 & NaN           & Action &    NA & 35.18 & NA     \\\\\n",
       "\\end{tabular}\n"
      ],
      "text/markdown": [
       "\n",
       "A tibble: 6 × 8\n",
       "\n",
       "| id &lt;dbl&gt; | release_year &lt;chr&gt; | languages_supported &lt;dbl&gt; | ratings &lt;chr&gt; | main_genre &lt;chr&gt; | original_price &lt;dbl&gt; | discount_price &lt;dbl&gt; | year_categorized &lt;chr&gt; |\n",
       "|---|---|---|---|---|---|---|---|\n",
       "| 1 | 2016 | 10 | Very Positive | Action | 19.99 | 14.99 | Current |\n",
       "| 2 | 2017 | 17 | Mixed         | Action | 29.99 |    NA | Current |\n",
       "| 3 | 2018 |  4 | Mixed         | Action | 39.99 |    NA | Current |\n",
       "| 4 | 2018 |  9 | Mixed         | Action | 44.99 |    NA | Current |\n",
       "| 5 | 2003 |  4 | Mixed         | Action |  0.00 |    NA | Recent  |\n",
       "| 6 | NA   | 12 | NaN           | Action |    NA | 35.18 | NA      |\n",
       "\n"
      ],
      "text/plain": [
       "  id release_year languages_supported ratings       main_genre original_price\n",
       "1 1  2016         10                  Very Positive Action     19.99         \n",
       "2 2  2017         17                  Mixed         Action     29.99         \n",
       "3 3  2018          4                  Mixed         Action     39.99         \n",
       "4 4  2018          9                  Mixed         Action     44.99         \n",
       "5 5  2003          4                  Mixed         Action      0.00         \n",
       "6 6  NA           12                  NaN           Action        NA         \n",
       "  discount_price year_categorized\n",
       "1 14.99          Current         \n",
       "2    NA          Current         \n",
       "3    NA          Current         \n",
       "4    NA          Current         \n",
       "5    NA          Recent          \n",
       "6 35.18          NA              "
      ]
     },
     "metadata": {},
     "output_type": "display_data"
    }
   ],
   "source": [
    "release_year_of_game_categorized <- within(reshape_steam_games, {\n",
    "    year_categorized <- NA\n",
    "    year_categorized[release_year >= 1980 & release_year < 2000] <- \"Old\"\n",
    "    year_categorized[release_year >= 2000 & release_year < 2015] <- \"Recent\"\n",
    "    year_categorized[release_year >= 2015] <- \"Current\"\n",
    "})\n",
    "head(release_year_of_game_categorized)"
   ]
  },
  {
   "cell_type": "code",
   "execution_count": 8,
   "id": "5f915238-fe7a-46a3-b37d-7b0fb171dd4b",
   "metadata": {},
   "outputs": [
    {
     "data": {
      "text/html": [
       "<table class=\"dataframe\">\n",
       "<caption>A tibble: 6 × 9</caption>\n",
       "<thead>\n",
       "\t<tr><th scope=col>id</th><th scope=col>release_year</th><th scope=col>languages_supported</th><th scope=col>ratings</th><th scope=col>main_genre</th><th scope=col>original_price</th><th scope=col>discount_price</th><th scope=col>year_categorized</th><th scope=col>price_categorized</th></tr>\n",
       "\t<tr><th scope=col>&lt;dbl&gt;</th><th scope=col>&lt;chr&gt;</th><th scope=col>&lt;dbl&gt;</th><th scope=col>&lt;chr&gt;</th><th scope=col>&lt;chr&gt;</th><th scope=col>&lt;dbl&gt;</th><th scope=col>&lt;dbl&gt;</th><th scope=col>&lt;chr&gt;</th><th scope=col>&lt;chr&gt;</th></tr>\n",
       "</thead>\n",
       "<tbody>\n",
       "\t<tr><td>1</td><td>2016</td><td>10</td><td>Very Positive</td><td>Action</td><td>19.99</td><td>14.99</td><td>Current</td><td>Medium Price</td></tr>\n",
       "\t<tr><td>2</td><td>2017</td><td>17</td><td>Mixed        </td><td>Action</td><td>29.99</td><td>   NA</td><td>Current</td><td>Medium Price</td></tr>\n",
       "\t<tr><td>3</td><td>2018</td><td> 4</td><td>Mixed        </td><td>Action</td><td>39.99</td><td>   NA</td><td>Current</td><td>High Price  </td></tr>\n",
       "\t<tr><td>4</td><td>2018</td><td> 9</td><td>Mixed        </td><td>Action</td><td>44.99</td><td>   NA</td><td>Current</td><td>High Price  </td></tr>\n",
       "\t<tr><td>5</td><td>2003</td><td> 4</td><td>Mixed        </td><td>Action</td><td> 0.00</td><td>   NA</td><td>Recent </td><td>Low Price   </td></tr>\n",
       "\t<tr><td>6</td><td>NA  </td><td>12</td><td>NaN          </td><td>Action</td><td>   NA</td><td>35.18</td><td>NA     </td><td>NA          </td></tr>\n",
       "</tbody>\n",
       "</table>\n"
      ],
      "text/latex": [
       "A tibble: 6 × 9\n",
       "\\begin{tabular}{lllllllll}\n",
       " id & release\\_year & languages\\_supported & ratings & main\\_genre & original\\_price & discount\\_price & year\\_categorized & price\\_categorized\\\\\n",
       " <dbl> & <chr> & <dbl> & <chr> & <chr> & <dbl> & <dbl> & <chr> & <chr>\\\\\n",
       "\\hline\n",
       "\t 1 & 2016 & 10 & Very Positive & Action & 19.99 & 14.99 & Current & Medium Price\\\\\n",
       "\t 2 & 2017 & 17 & Mixed         & Action & 29.99 &    NA & Current & Medium Price\\\\\n",
       "\t 3 & 2018 &  4 & Mixed         & Action & 39.99 &    NA & Current & High Price  \\\\\n",
       "\t 4 & 2018 &  9 & Mixed         & Action & 44.99 &    NA & Current & High Price  \\\\\n",
       "\t 5 & 2003 &  4 & Mixed         & Action &  0.00 &    NA & Recent  & Low Price   \\\\\n",
       "\t 6 & NA   & 12 & NaN           & Action &    NA & 35.18 & NA      & NA          \\\\\n",
       "\\end{tabular}\n"
      ],
      "text/markdown": [
       "\n",
       "A tibble: 6 × 9\n",
       "\n",
       "| id &lt;dbl&gt; | release_year &lt;chr&gt; | languages_supported &lt;dbl&gt; | ratings &lt;chr&gt; | main_genre &lt;chr&gt; | original_price &lt;dbl&gt; | discount_price &lt;dbl&gt; | year_categorized &lt;chr&gt; | price_categorized &lt;chr&gt; |\n",
       "|---|---|---|---|---|---|---|---|---|\n",
       "| 1 | 2016 | 10 | Very Positive | Action | 19.99 | 14.99 | Current | Medium Price |\n",
       "| 2 | 2017 | 17 | Mixed         | Action | 29.99 |    NA | Current | Medium Price |\n",
       "| 3 | 2018 |  4 | Mixed         | Action | 39.99 |    NA | Current | High Price   |\n",
       "| 4 | 2018 |  9 | Mixed         | Action | 44.99 |    NA | Current | High Price   |\n",
       "| 5 | 2003 |  4 | Mixed         | Action |  0.00 |    NA | Recent  | Low Price    |\n",
       "| 6 | NA   | 12 | NaN           | Action |    NA | 35.18 | NA      | NA           |\n",
       "\n"
      ],
      "text/plain": [
       "  id release_year languages_supported ratings       main_genre original_price\n",
       "1 1  2016         10                  Very Positive Action     19.99         \n",
       "2 2  2017         17                  Mixed         Action     29.99         \n",
       "3 3  2018          4                  Mixed         Action     39.99         \n",
       "4 4  2018          9                  Mixed         Action     44.99         \n",
       "5 5  2003          4                  Mixed         Action      0.00         \n",
       "6 6  NA           12                  NaN           Action        NA         \n",
       "  discount_price year_categorized price_categorized\n",
       "1 14.99          Current          Medium Price     \n",
       "2    NA          Current          Medium Price     \n",
       "3    NA          Current          High Price       \n",
       "4    NA          Current          High Price       \n",
       "5    NA          Recent           Low Price        \n",
       "6 35.18          NA               NA               "
      ]
     },
     "metadata": {},
     "output_type": "display_data"
    }
   ],
   "source": [
    "price_of_game_categorized <- within(release_year_of_game_categorized, {\n",
    "    price_categorized <- NA\n",
    "    price_categorized[original_price <= 10] <- \"Low Price\"\n",
    "    price_categorized[original_price > 10 & original_price <= 30] <- \"Medium Price\"\n",
    "    price_categorized[original_price > 30 & original_price <= 50] <- \"High Price\"\n",
    "    price_categorized[original_price > 50] <- \"Expensive\"\n",
    "})\n",
    "head(price_of_game_categorized)"
   ]
  },
  {
   "cell_type": "code",
   "execution_count": 9,
   "id": "8d54e930-63b5-4d4e-9fdd-34a8545f7bde",
   "metadata": {},
   "outputs": [
    {
     "name": "stdout",
     "output_type": "stream",
     "text": [
      "\u001b[90m# A tibble: 12 × 3\u001b[39m\n",
      "\u001b[90m# Groups:   year_categorized [3]\u001b[39m\n",
      "   year_categorized price_categorized     n\n",
      "   \u001b[3m\u001b[90m<chr>\u001b[39m\u001b[23m            \u001b[3m\u001b[90m<chr>\u001b[39m\u001b[23m             \u001b[3m\u001b[90m<int>\u001b[39m\u001b[23m\n",
      "\u001b[90m 1\u001b[39m Current          Expensive           859\n",
      "\u001b[90m 2\u001b[39m Current          High Price          709\n",
      "\u001b[90m 3\u001b[39m Current          Low Price         \u001b[4m2\u001b[24m\u001b[4m2\u001b[24m305\n",
      "\u001b[90m 4\u001b[39m Current          Medium Price       \u001b[4m5\u001b[24m431\n",
      "\u001b[90m 5\u001b[39m Old              Expensive            11\n",
      "\u001b[90m 6\u001b[39m Old              High Price            1\n",
      "\u001b[90m 7\u001b[39m Old              Low Price           251\n",
      "\u001b[90m 8\u001b[39m Old              Medium Price         18\n",
      "\u001b[90m 9\u001b[39m Recent           Expensive           160\n",
      "\u001b[90m10\u001b[39m Recent           High Price           90\n",
      "\u001b[90m11\u001b[39m Recent           Low Price          \u001b[4m3\u001b[24m834\n",
      "\u001b[90m12\u001b[39m Recent           Medium Price       \u001b[4m1\u001b[24m047\n"
     ]
    }
   ],
   "source": [
    "price_versus_years_table <- price_of_game_categorized %>%\n",
    "    group_by(year_categorized) %>%\n",
    "    count(price_categorized) %>%\n",
    "    drop_na(year_categorized) %>%\n",
    "    drop_na(price_categorized)\n",
    "print(price_versus_years_table)"
   ]
  },
  {
   "cell_type": "code",
   "execution_count": 10,
   "id": "73d7ef32-a010-4892-aaf7-17ab90e6d7f1",
   "metadata": {},
   "outputs": [
    {
     "data": {
      "image/png": "[encoded data removed]",
      "text/plain": [
       "plot without title"
      ]
     },
     "metadata": {
      "image/png": {
       "height": 420,
       "width": 420
      }
     },
     "output_type": "display_data"
    }
   ],
   "source": [
    "prices_versus_years_diagram <- price_versus_years_table %>%\n",
    "    ggplot(aes(x = year_categorized, weight = n)) + \n",
    "    geom_bar(aes(fill = price_categorized)) +\n",
    "    xlab(\"Years Categorized\")\n",
    "\n",
    "prices_versus_years_diagram"
   ]
  },
  {
   "cell_type": "markdown",
   "id": "4ade21da-eaee-4d08-9bc6-dfed21d21fd0",
   "metadata": {},
   "source": [
    "Now, choose two of the following tasks.\n",
    "\n",
    "1.  Produce a new plot that reorders a factor in your original plot, using the `forcats` package (3 points). Then, in a sentence or two, briefly explain why you chose this ordering (1 point here for demonstrating understanding of the reordering, and 1 point for demonstrating some justification for the reordering, which could be subtle or speculative.)\n",
    "\n",
    "2.  Produce a new plot that groups some factor levels together into an \"other\" category (or something similar), using the `forcats` package (3 points). Then, in a sentence or two, briefly explain why you chose this grouping (1 point here for demonstrating understanding of the grouping, and 1 point for demonstrating some justification for the grouping, which could be subtle or speculative.)\n",
    "\n",
    "3.  If your data has some sort of time-based column like a date (but something more granular than just a year):\n",
    "\n",
    "    1.  Make a new column that uses a function from the `lubridate` or `tsibble` package to modify your original time-based column. (3 points)\n",
    "\n",
    "        -   Note that you might first have to *make* a time-based column using a function like `ymd()`, but this doesn't count.\n",
    "        -   Examples of something you might do here: extract the day of the year from a date, or extract the weekday, or let 24 hours elapse on your dates.\n",
    "\n",
    "    2.  Then, in a sentence or two, explain how your new column might be useful in exploring a research question. (1 point for demonstrating understanding of the function you used, and 1 point for your justification, which could be subtle or speculative).\n",
    "\n",
    "        -   For example, you could say something like \"Investigating the day of the week might be insightful because penguins don't work on weekends, and so may respond differently\"."
   ]
  },
  {
   "cell_type": "markdown",
   "id": "85af4e82-3759-475a-a41b-3222c69b412d",
   "metadata": {},
   "source": [
    "<!-------------------------- Start your work below ---------------------------->\n",
    "\n",
    "**Task Number**: 1\n",
    "\n",
    "<!----------------------------------------------------------------------------->"
   ]
  },
  {
   "cell_type": "code",
   "execution_count": 11,
   "id": "a09de94b-01ff-43f2-b77f-6296e0f38b0a",
   "metadata": {},
   "outputs": [
    {
     "data": {
      "image/png": "[encoded data removed]",
      "text/plain": [
       "plot without title"
      ]
     },
     "metadata": {
      "image/png": {
       "height": 420,
       "width": 420
      }
     },
     "output_type": "display_data"
    }
   ],
   "source": [
    "reordered_1 <- price_versus_years_table %>%\n",
    "    ggplot(aes(x = fct_reorder(year_categorized, n, .fun = mean), weight = n)) + \n",
    "    geom_bar(aes(fill = fct_relevel(price_categorized, \"Expensive\", \"High Price\", \"Medium Price\", \"Low Price\"))) +\n",
    "    xlab(\"Years Categorized\")\n",
    "\n",
    "reordered_1"
   ]
  },
  {
   "cell_type": "markdown",
   "id": "648ecf94-e89d-4864-88fd-dbc40fbbbc41",
   "metadata": {},
   "source": [
    "### Explanation\n",
    "With the help of `fct_reorder()` function, I could reorder x-axis in ascending years, from old to recent to current. I could reorder y-axis in ascending prices using `fct_relevel()` function, from low to medium to high to expensive."
   ]
  },
  {
   "cell_type": "markdown",
   "id": "05673cf8-0937-49ac-ab1c-66b426126fa6",
   "metadata": {},
   "source": [
    "<!-------------------------- Start your work below ---------------------------->\n",
    "\n",
    "**Task Number**: 2\n",
    "\n",
    "<!----------------------------------------------------------------------------->"
   ]
  },
  {
   "cell_type": "code",
   "execution_count": 12,
   "id": "3f67ad41-6953-43c5-b6fe-e715d2f4e374",
   "metadata": {},
   "outputs": [
    {
     "data": {
      "image/png": "[encoded data removed]",
      "text/plain": [
       "plot without title"
      ]
     },
     "metadata": {
      "image/png": {
       "height": 420,
       "width": 420
      }
     },
     "output_type": "display_data"
    }
   ],
   "source": [
    "reordered_2 <- price_versus_years_table %>%\n",
    "    ggplot(aes(x = fct_other(year_categorized, keep = c(\"Current\")), weight = n)) + \n",
    "    geom_bar(aes(fill = fct_relevel(price_categorized, \"Expensive\", \"High Price\", \"Medium Price\", \"Low Price\"))) +\n",
    "    xlab(\"Years Categorized\")\n",
    "\n",
    "reordered_2"
   ]
  },
  {
   "cell_type": "markdown",
   "id": "f9f93a53-dc2e-4b66-b661-e58059455a45",
   "metadata": {},
   "source": [
    "### Explanation\n",
    "I used `fct_other()` function to keep only current years and others because there's only a few counts for year category old."
   ]
  },
  {
   "cell_type": "markdown",
   "id": "e3b15782-7d2d-4cf5-a9bd-2212a95eff7a",
   "metadata": {},
   "source": [
    "# Task 3: Modelling\n",
    "\n",
    "## 2.0 (no points)\n",
    "\n",
    "Pick a research question, and pick a variable of interest (we'll call it \"Y\") that's relevant to the research question. Indicate these."
   ]
  },
  {
   "cell_type": "markdown",
   "id": "80a80eb7-b56e-4cd0-bc76-879cbd484791",
   "metadata": {},
   "source": [
    "<!-------------------------- Start your work below ---------------------------->\n",
    "\n",
    "**Research Question**: What's the relationship between the overall average price of the game with the release year of the game?\n",
    "\n",
    "**Variable of interest**: `original_price` of the steam game\n",
    "\n",
    "<!----------------------------------------------------------------------------->"
   ]
  },
  {
   "cell_type": "markdown",
   "id": "82be817e-8b4a-45f2-8466-34670d99b2b2",
   "metadata": {},
   "source": [
    "## 2.1 (5 points)\n",
    "\n",
    "Fit a model or run a hypothesis test that provides insight on this variable with respect to the research question. Store the model object as a variable, and print its output to screen. We'll omit having to justify your choice, because we don't expect you to know about model specifics in STAT 545.\n",
    "\n",
    "-   **Note**: It's OK if you don't know how these models/tests work. Here are some examples of things you can do here, but the sky's the limit.\n",
    "\n",
    "    -   You could fit a model that makes predictions on Y using another variable, by using the `lm()` function.\n",
    "    -   You could test whether the mean of Y equals 0 using `t.test()`, or maybe the mean across two groups are different using `t.test()`, or maybe the mean across multiple groups are different using `anova()` (you may have to pivot your data for the latter two).\n",
    "    -   You could use `lm()` to test for significance of regression."
   ]
  },
  {
   "cell_type": "code",
   "execution_count": 13,
   "id": "13664821-7e00-45e6-a6cc-d33db8ef6040",
   "metadata": {},
   "outputs": [
    {
     "name": "stdout",
     "output_type": "stream",
     "text": [
      "\u001b[90m# A tibble: 1,286 × 3\u001b[39m\n",
      "   release_year original_price count\n",
      "   \u001b[3m\u001b[90m<chr>\u001b[39m\u001b[23m                 \u001b[3m\u001b[90m<dbl>\u001b[39m\u001b[23m \u001b[3m\u001b[90m<int>\u001b[39m\u001b[23m\n",
      "\u001b[90m 1\u001b[39m 1981                   0        1\n",
      "\u001b[90m 2\u001b[39m 1983                   9.99     1\n",
      "\u001b[90m 3\u001b[39m 1984                   1.99     1\n",
      "\u001b[90m 4\u001b[39m 1984                   9.99     1\n",
      "\u001b[90m 5\u001b[39m 1985                  55.9      1\n",
      "\u001b[90m 6\u001b[39m 1986                   7.99     1\n",
      "\u001b[90m 7\u001b[39m 1987                   1.02     1\n",
      "\u001b[90m 8\u001b[39m 1987                   5.99     1\n",
      "\u001b[90m 9\u001b[39m 1987                   6.99     2\n",
      "\u001b[90m10\u001b[39m 1988                   2.99     1\n",
      "\u001b[90m# … with 1,276 more rows\u001b[39m\n"
     ]
    }
   ],
   "source": [
    "year_and_original_price <- reshape_steam_games %>%\n",
    "    drop_na(release_year) %>%\n",
    "    group_by(release_year, original_price) %>%\n",
    "    summarize(count = n(), .groups = \"drop\")\n",
    "\n",
    "print(year_and_original_price)"
   ]
  },
  {
   "cell_type": "code",
   "execution_count": 14,
   "id": "4e6b311b-c337-4519-bcc7-a429f9bf9c26",
   "metadata": {},
   "outputs": [
    {
     "name": "stdout",
     "output_type": "stream",
     "text": [
      "\u001b[90m# A tibble: 41 × 2\u001b[39m\n",
      "   release_year mean_of_price_each_year\n",
      "   \u001b[3m\u001b[90m<chr>\u001b[39m\u001b[23m                          \u001b[3m\u001b[90m<dbl>\u001b[39m\u001b[23m\n",
      "\u001b[90m 1\u001b[39m 1981                            0   \n",
      "\u001b[90m 2\u001b[39m 1983                            9.99\n",
      "\u001b[90m 3\u001b[39m 1984                            5.99\n",
      "\u001b[90m 4\u001b[39m 1985                           55.9 \n",
      "\u001b[90m 5\u001b[39m 1986                            7.99\n",
      "\u001b[90m 6\u001b[39m 1987                            5.25\n",
      "\u001b[90m 7\u001b[39m 1988                            6.39\n",
      "\u001b[90m 8\u001b[39m 1989                           12.0 \n",
      "\u001b[90m 9\u001b[39m 1990                           19.6 \n",
      "\u001b[90m10\u001b[39m 1991                           10.7 \n",
      "\u001b[90m# … with 31 more rows\u001b[39m\n"
     ]
    }
   ],
   "source": [
    "final <- year_and_original_price %>%\n",
    "    group_by(release_year) %>%\n",
    "    drop_na(original_price) %>%\n",
    "    drop_na(count) %>%\n",
    "    summarize(mean_of_price_each_year = sum(original_price * count) / sum(count))\n",
    "\n",
    "print(final)"
   ]
  },
  {
   "cell_type": "code",
   "execution_count": 15,
   "id": "e78a2442-b37e-42d8-a3d0-b4baa9bb9c62",
   "metadata": {},
   "outputs": [
    {
     "data": {
      "text/html": [
       "<table class=\"dataframe\">\n",
       "<caption>A tibble: 38 × 2</caption>\n",
       "<thead>\n",
       "\t<tr><th scope=col>release_year</th><th scope=col>mean_of_price_each_year</th></tr>\n",
       "\t<tr><th scope=col>&lt;int&gt;</th><th scope=col>&lt;dbl&gt;</th></tr>\n",
       "</thead>\n",
       "<tbody>\n",
       "\t<tr><td>1983</td><td>  9.990000</td></tr>\n",
       "\t<tr><td>1984</td><td>  5.990000</td></tr>\n",
       "\t<tr><td>1985</td><td> 55.920000</td></tr>\n",
       "\t<tr><td>1986</td><td>  7.990000</td></tr>\n",
       "\t<tr><td>1987</td><td>  5.247500</td></tr>\n",
       "\t<tr><td>1988</td><td>  6.390000</td></tr>\n",
       "\t<tr><td>1989</td><td> 11.988333</td></tr>\n",
       "\t<tr><td>1990</td><td> 19.597500</td></tr>\n",
       "\t<tr><td>1991</td><td> 10.698571</td></tr>\n",
       "\t<tr><td>1992</td><td>  6.990000</td></tr>\n",
       "\t<tr><td>1993</td><td>  8.408947</td></tr>\n",
       "\t<tr><td>1994</td><td>  6.865833</td></tr>\n",
       "\t<tr><td>1995</td><td>  8.473793</td></tr>\n",
       "\t<tr><td>1996</td><td>  6.694054</td></tr>\n",
       "\t<tr><td>1997</td><td>  7.166944</td></tr>\n",
       "\t<tr><td>1998</td><td> 11.084286</td></tr>\n",
       "\t<tr><td>1999</td><td> 10.851200</td></tr>\n",
       "\t<tr><td>2000</td><td>  8.860000</td></tr>\n",
       "\t<tr><td>2001</td><td> 10.153673</td></tr>\n",
       "\t<tr><td>2002</td><td>  7.648537</td></tr>\n",
       "\t<tr><td>2003</td><td>  7.400270</td></tr>\n",
       "\t<tr><td>2004</td><td>  8.167742</td></tr>\n",
       "\t<tr><td>2005</td><td> 10.494881</td></tr>\n",
       "\t<tr><td>2006</td><td> 10.536752</td></tr>\n",
       "\t<tr><td>2007</td><td>  8.739370</td></tr>\n",
       "\t<tr><td>2008</td><td> 15.962264</td></tr>\n",
       "\t<tr><td>2009</td><td> 13.268353</td></tr>\n",
       "\t<tr><td>2010</td><td> 15.927974</td></tr>\n",
       "\t<tr><td>2011</td><td> 12.438482</td></tr>\n",
       "\t<tr><td>2012</td><td> 14.257917</td></tr>\n",
       "\t<tr><td>2013</td><td> 23.249524</td></tr>\n",
       "\t<tr><td>2014</td><td> 15.828008</td></tr>\n",
       "\t<tr><td>2015</td><td> 12.011426</td></tr>\n",
       "\t<tr><td>2016</td><td> 11.617101</td></tr>\n",
       "\t<tr><td>2017</td><td>104.455556</td></tr>\n",
       "\t<tr><td>2018</td><td> 13.190170</td></tr>\n",
       "\t<tr><td>2019</td><td> 16.236213</td></tr>\n",
       "\t<tr><td>2020</td><td> 28.656667</td></tr>\n",
       "</tbody>\n",
       "</table>\n"
      ],
      "text/latex": [
       "A tibble: 38 × 2\n",
       "\\begin{tabular}{ll}\n",
       " release\\_year & mean\\_of\\_price\\_each\\_year\\\\\n",
       " <int> & <dbl>\\\\\n",
       "\\hline\n",
       "\t 1983 &   9.990000\\\\\n",
       "\t 1984 &   5.990000\\\\\n",
       "\t 1985 &  55.920000\\\\\n",
       "\t 1986 &   7.990000\\\\\n",
       "\t 1987 &   5.247500\\\\\n",
       "\t 1988 &   6.390000\\\\\n",
       "\t 1989 &  11.988333\\\\\n",
       "\t 1990 &  19.597500\\\\\n",
       "\t 1991 &  10.698571\\\\\n",
       "\t 1992 &   6.990000\\\\\n",
       "\t 1993 &   8.408947\\\\\n",
       "\t 1994 &   6.865833\\\\\n",
       "\t 1995 &   8.473793\\\\\n",
       "\t 1996 &   6.694054\\\\\n",
       "\t 1997 &   7.166944\\\\\n",
       "\t 1998 &  11.084286\\\\\n",
       "\t 1999 &  10.851200\\\\\n",
       "\t 2000 &   8.860000\\\\\n",
       "\t 2001 &  10.153673\\\\\n",
       "\t 2002 &   7.648537\\\\\n",
       "\t 2003 &   7.400270\\\\\n",
       "\t 2004 &   8.167742\\\\\n",
       "\t 2005 &  10.494881\\\\\n",
       "\t 2006 &  10.536752\\\\\n",
       "\t 2007 &   8.739370\\\\\n",
       "\t 2008 &  15.962264\\\\\n",
       "\t 2009 &  13.268353\\\\\n",
       "\t 2010 &  15.927974\\\\\n",
       "\t 2011 &  12.438482\\\\\n",
       "\t 2012 &  14.257917\\\\\n",
       "\t 2013 &  23.249524\\\\\n",
       "\t 2014 &  15.828008\\\\\n",
       "\t 2015 &  12.011426\\\\\n",
       "\t 2016 &  11.617101\\\\\n",
       "\t 2017 & 104.455556\\\\\n",
       "\t 2018 &  13.190170\\\\\n",
       "\t 2019 &  16.236213\\\\\n",
       "\t 2020 &  28.656667\\\\\n",
       "\\end{tabular}\n"
      ],
      "text/markdown": [
       "\n",
       "A tibble: 38 × 2\n",
       "\n",
       "| release_year &lt;int&gt; | mean_of_price_each_year &lt;dbl&gt; |\n",
       "|---|---|\n",
       "| 1983 |   9.990000 |\n",
       "| 1984 |   5.990000 |\n",
       "| 1985 |  55.920000 |\n",
       "| 1986 |   7.990000 |\n",
       "| 1987 |   5.247500 |\n",
       "| 1988 |   6.390000 |\n",
       "| 1989 |  11.988333 |\n",
       "| 1990 |  19.597500 |\n",
       "| 1991 |  10.698571 |\n",
       "| 1992 |   6.990000 |\n",
       "| 1993 |   8.408947 |\n",
       "| 1994 |   6.865833 |\n",
       "| 1995 |   8.473793 |\n",
       "| 1996 |   6.694054 |\n",
       "| 1997 |   7.166944 |\n",
       "| 1998 |  11.084286 |\n",
       "| 1999 |  10.851200 |\n",
       "| 2000 |   8.860000 |\n",
       "| 2001 |  10.153673 |\n",
       "| 2002 |   7.648537 |\n",
       "| 2003 |   7.400270 |\n",
       "| 2004 |   8.167742 |\n",
       "| 2005 |  10.494881 |\n",
       "| 2006 |  10.536752 |\n",
       "| 2007 |   8.739370 |\n",
       "| 2008 |  15.962264 |\n",
       "| 2009 |  13.268353 |\n",
       "| 2010 |  15.927974 |\n",
       "| 2011 |  12.438482 |\n",
       "| 2012 |  14.257917 |\n",
       "| 2013 |  23.249524 |\n",
       "| 2014 |  15.828008 |\n",
       "| 2015 |  12.011426 |\n",
       "| 2016 |  11.617101 |\n",
       "| 2017 | 104.455556 |\n",
       "| 2018 |  13.190170 |\n",
       "| 2019 |  16.236213 |\n",
       "| 2020 |  28.656667 |\n",
       "\n"
      ],
      "text/plain": [
       "   release_year mean_of_price_each_year\n",
       "1  1983           9.990000             \n",
       "2  1984           5.990000             \n",
       "3  1985          55.920000             \n",
       "4  1986           7.990000             \n",
       "5  1987           5.247500             \n",
       "6  1988           6.390000             \n",
       "7  1989          11.988333             \n",
       "8  1990          19.597500             \n",
       "9  1991          10.698571             \n",
       "10 1992           6.990000             \n",
       "11 1993           8.408947             \n",
       "12 1994           6.865833             \n",
       "13 1995           8.473793             \n",
       "14 1996           6.694054             \n",
       "15 1997           7.166944             \n",
       "16 1998          11.084286             \n",
       "17 1999          10.851200             \n",
       "18 2000           8.860000             \n",
       "19 2001          10.153673             \n",
       "20 2002           7.648537             \n",
       "21 2003           7.400270             \n",
       "22 2004           8.167742             \n",
       "23 2005          10.494881             \n",
       "24 2006          10.536752             \n",
       "25 2007           8.739370             \n",
       "26 2008          15.962264             \n",
       "27 2009          13.268353             \n",
       "28 2010          15.927974             \n",
       "29 2011          12.438482             \n",
       "30 2012          14.257917             \n",
       "31 2013          23.249524             \n",
       "32 2014          15.828008             \n",
       "33 2015          12.011426             \n",
       "34 2016          11.617101             \n",
       "35 2017         104.455556             \n",
       "36 2018          13.190170             \n",
       "37 2019          16.236213             \n",
       "38 2020          28.656667             "
      ]
     },
     "metadata": {},
     "output_type": "display_data"
    }
   ],
   "source": [
    "final$release_year <- as.integer(final$release_year)\n",
    "\n",
    "final <- filter(final, release_year > 1981 & release_year <= 2021)\n",
    "\n",
    "final"
   ]
  },
  {
   "cell_type": "code",
   "execution_count": 16,
   "id": "f6164c8f-49da-46f4-a859-d7146280b559",
   "metadata": {},
   "outputs": [
    {
     "data": {
      "text/plain": [
       "\n",
       "Call:\n",
       "lm(formula = mean_of_price_each_year ~ release_year, data = final)\n",
       "\n",
       "Coefficients:\n",
       " (Intercept)  release_year  \n",
       "    -789.643         0.402  \n"
      ]
     },
     "metadata": {},
     "output_type": "display_data"
    }
   ],
   "source": [
    "final_lm <- lm(mean_of_price_each_year ~ release_year, final)\n",
    "\n",
    "final_lm"
   ]
  },
  {
   "cell_type": "code",
   "execution_count": 17,
   "id": "6147a12f-4b0a-411d-9f1e-938ec087bb24",
   "metadata": {},
   "outputs": [
    {
     "data": {
      "text/plain": [
       "\n",
       "\tWelch Two Sample t-test\n",
       "\n",
       "data:  final$release_year and final$mean_of_price_each_year\n",
       "t = 596.56, df = 63.181, p-value < 2.2e-16\n",
       "alternative hypothesis: true difference in means is not equal to 0\n",
       "95 percent confidence interval:\n",
       " 1979.861 1993.168\n",
       "sample estimates:\n",
       " mean of x  mean of y \n",
       "2001.50000   14.98547 \n"
      ]
     },
     "metadata": {},
     "output_type": "display_data"
    }
   ],
   "source": [
    "final_test = t.test(final$release_year, final$mean_of_price_each_year)\n",
    "\n",
    "final_test"
   ]
  },
  {
   "cell_type": "markdown",
   "id": "a8a51912-cbdf-4200-b1c1-ffe74ba50563",
   "metadata": {},
   "source": [
    "## 2.2 (5 points)\n",
    "\n",
    "Produce something relevant from your fitted model: either predictions on Y, or a single value like a regression coefficient or a p-value.\n",
    "\n",
    "-   Be sure to indicate in writing what you chose to produce.\n",
    "-   Your code should either output a tibble (in which case you should indicate the column that contains the thing you're looking for), or the thing you're looking for itself.\n",
    "-   Obtain your results using the `broom` package if possible. If your model is not compatible with the broom function you're needing, then you can obtain your results by some other means, but first indicate which broom function is not compatible."
   ]
  },
  {
   "cell_type": "code",
   "execution_count": 18,
   "id": "25e009eb-ceea-4257-b012-1e1331e1a04f",
   "metadata": {},
   "outputs": [],
   "source": [
    "library(broom)"
   ]
  },
  {
   "cell_type": "markdown",
   "id": "2d7abe6e-715b-400b-829a-23edd5fa1b1a",
   "metadata": {},
   "source": [
    "### Tidy\n",
    "`tidy()` function from the `broom` package gives me a statistical summary of each component of my model. In this case, these two rows give me the intercept and the slope."
   ]
  },
  {
   "cell_type": "code",
   "execution_count": 19,
   "id": "b0c2efb0-3844-4859-b740-d0d4e2e8bc60",
   "metadata": {},
   "outputs": [
    {
     "data": {
      "text/html": [
       "<table class=\"dataframe\">\n",
       "<caption>A tibble: 2 × 5</caption>\n",
       "<thead>\n",
       "\t<tr><th scope=col>term</th><th scope=col>estimate</th><th scope=col>std.error</th><th scope=col>statistic</th><th scope=col>p.value</th></tr>\n",
       "\t<tr><th scope=col>&lt;chr&gt;</th><th scope=col>&lt;dbl&gt;</th><th scope=col>&lt;dbl&gt;</th><th scope=col>&lt;dbl&gt;</th><th scope=col>&lt;dbl&gt;</th></tr>\n",
       "</thead>\n",
       "<tbody>\n",
       "\t<tr><td>(Intercept) </td><td>-789.6432335</td><td>500.4040562</td><td>-1.578011</td><td>0.1233109</td></tr>\n",
       "\t<tr><td>release_year</td><td>   0.4020128</td><td>  0.2500108</td><td> 1.607982</td><td>0.1165754</td></tr>\n",
       "</tbody>\n",
       "</table>\n"
      ],
      "text/latex": [
       "A tibble: 2 × 5\n",
       "\\begin{tabular}{lllll}\n",
       " term & estimate & std.error & statistic & p.value\\\\\n",
       " <chr> & <dbl> & <dbl> & <dbl> & <dbl>\\\\\n",
       "\\hline\n",
       "\t (Intercept)  & -789.6432335 & 500.4040562 & -1.578011 & 0.1233109\\\\\n",
       "\t release\\_year &    0.4020128 &   0.2500108 &  1.607982 & 0.1165754\\\\\n",
       "\\end{tabular}\n"
      ],
      "text/markdown": [
       "\n",
       "A tibble: 2 × 5\n",
       "\n",
       "| term &lt;chr&gt; | estimate &lt;dbl&gt; | std.error &lt;dbl&gt; | statistic &lt;dbl&gt; | p.value &lt;dbl&gt; |\n",
       "|---|---|---|---|---|\n",
       "| (Intercept)  | -789.6432335 | 500.4040562 | -1.578011 | 0.1233109 |\n",
       "| release_year |    0.4020128 |   0.2500108 |  1.607982 | 0.1165754 |\n",
       "\n"
      ],
      "text/plain": [
       "  term         estimate     std.error   statistic p.value  \n",
       "1 (Intercept)  -789.6432335 500.4040562 -1.578011 0.1233109\n",
       "2 release_year    0.4020128   0.2500108  1.607982 0.1165754"
      ]
     },
     "metadata": {},
     "output_type": "display_data"
    }
   ],
   "source": [
    "final_tidy <- tidy(final_lm)\n",
    "\n",
    "final_tidy"
   ]
  },
  {
   "cell_type": "markdown",
   "id": "1140758a-ddcd-45e9-9234-0a02c36f4caf",
   "metadata": {},
   "source": [
    "# Task 4: Reading and writing data\n",
    "\n",
    "Get set up for this exercise by making a folder called `output` in the top level of your project folder / repository. You'll be saving things there.\n",
    "\n",
    "## 3.1 (5 points)\n",
    "\n",
    "Take a summary table that you made from Milestone 1 (Task 4.2), and write it as a csv file in your `output` folder. Use the `here::here()` function.\n",
    "\n",
    "-   **Robustness criteria**: You should be able to move your Mini Project repository / project folder to some other location on your computer, or move this very Rmd file to another location within your project repository / folder, and your code should still work.\n",
    "-   **Reproducibility criteria**: You should be able to delete the csv file, and remake it simply by knitting this Rmd file.\n"
   ]
  },
  {
   "cell_type": "code",
   "execution_count": 20,
   "id": "3dc0d5aa-e99b-4ae1-a3d0-b7b5bbae720f",
   "metadata": {},
   "outputs": [
    {
     "data": {
      "text/html": [
       "<table class=\"dataframe\">\n",
       "<caption>A grouped_df: 12 × 3</caption>\n",
       "<thead>\n",
       "\t<tr><th scope=col>year_categorized</th><th scope=col>price_categorized</th><th scope=col>n</th></tr>\n",
       "\t<tr><th scope=col>&lt;chr&gt;</th><th scope=col>&lt;chr&gt;</th><th scope=col>&lt;int&gt;</th></tr>\n",
       "</thead>\n",
       "<tbody>\n",
       "\t<tr><td>Current</td><td>Expensive   </td><td>  859</td></tr>\n",
       "\t<tr><td>Current</td><td>High Price  </td><td>  709</td></tr>\n",
       "\t<tr><td>Current</td><td>Low Price   </td><td>22305</td></tr>\n",
       "\t<tr><td>Current</td><td>Medium Price</td><td> 5431</td></tr>\n",
       "\t<tr><td>Old    </td><td>Expensive   </td><td>   11</td></tr>\n",
       "\t<tr><td>Old    </td><td>High Price  </td><td>    1</td></tr>\n",
       "\t<tr><td>Old    </td><td>Low Price   </td><td>  251</td></tr>\n",
       "\t<tr><td>Old    </td><td>Medium Price</td><td>   18</td></tr>\n",
       "\t<tr><td>Recent </td><td>Expensive   </td><td>  160</td></tr>\n",
       "\t<tr><td>Recent </td><td>High Price  </td><td>   90</td></tr>\n",
       "\t<tr><td>Recent </td><td>Low Price   </td><td> 3834</td></tr>\n",
       "\t<tr><td>Recent </td><td>Medium Price</td><td> 1047</td></tr>\n",
       "</tbody>\n",
       "</table>\n"
      ],
      "text/latex": [
       "A grouped\\_df: 12 × 3\n",
       "\\begin{tabular}{lll}\n",
       " year\\_categorized & price\\_categorized & n\\\\\n",
       " <chr> & <chr> & <int>\\\\\n",
       "\\hline\n",
       "\t Current & Expensive    &   859\\\\\n",
       "\t Current & High Price   &   709\\\\\n",
       "\t Current & Low Price    & 22305\\\\\n",
       "\t Current & Medium Price &  5431\\\\\n",
       "\t Old     & Expensive    &    11\\\\\n",
       "\t Old     & High Price   &     1\\\\\n",
       "\t Old     & Low Price    &   251\\\\\n",
       "\t Old     & Medium Price &    18\\\\\n",
       "\t Recent  & Expensive    &   160\\\\\n",
       "\t Recent  & High Price   &    90\\\\\n",
       "\t Recent  & Low Price    &  3834\\\\\n",
       "\t Recent  & Medium Price &  1047\\\\\n",
       "\\end{tabular}\n"
      ],
      "text/markdown": [
       "\n",
       "A grouped_df: 12 × 3\n",
       "\n",
       "| year_categorized &lt;chr&gt; | price_categorized &lt;chr&gt; | n &lt;int&gt; |\n",
       "|---|---|---|\n",
       "| Current | Expensive    |   859 |\n",
       "| Current | High Price   |   709 |\n",
       "| Current | Low Price    | 22305 |\n",
       "| Current | Medium Price |  5431 |\n",
       "| Old     | Expensive    |    11 |\n",
       "| Old     | High Price   |     1 |\n",
       "| Old     | Low Price    |   251 |\n",
       "| Old     | Medium Price |    18 |\n",
       "| Recent  | Expensive    |   160 |\n",
       "| Recent  | High Price   |    90 |\n",
       "| Recent  | Low Price    |  3834 |\n",
       "| Recent  | Medium Price |  1047 |\n",
       "\n"
      ],
      "text/plain": [
       "   year_categorized price_categorized n    \n",
       "1  Current          Expensive           859\n",
       "2  Current          High Price          709\n",
       "3  Current          Low Price         22305\n",
       "4  Current          Medium Price       5431\n",
       "5  Old              Expensive            11\n",
       "6  Old              High Price            1\n",
       "7  Old              Low Price           251\n",
       "8  Old              Medium Price         18\n",
       "9  Recent           Expensive           160\n",
       "10 Recent           High Price           90\n",
       "11 Recent           Low Price          3834\n",
       "12 Recent           Medium Price       1047"
      ]
     },
     "metadata": {},
     "output_type": "display_data"
    }
   ],
   "source": [
    "price_versus_years_table"
   ]
  },
  {
   "cell_type": "code",
   "execution_count": 22,
   "id": "72214cb2-c9c6-48ef-b7d2-c42509bc7ff7",
   "metadata": {},
   "outputs": [
    {
     "name": "stdout",
     "output_type": "stream",
     "text": [
      "\n",
      "The downloaded binary packages are in\n",
      "\t/var/folders/23/n1s0jd6x0dlc95sn69z4wxq00000gn/T//RtmpRQ8T5K/downloaded_packages\n"
     ]
    }
   ],
   "source": [
    "install.packages(\"here\")"
   ]
  },
  {
   "cell_type": "code",
   "execution_count": 23,
   "id": "1590c03c-b7a9-4ef1-8f59-19510c34f2a2",
   "metadata": {},
   "outputs": [
    {
     "data": {
      "text/html": [
       "'/Users/jiayuhuang/Desktop/545m2/milestone2'"
      ],
      "text/latex": [
       "'/Users/jiayuhuang/Desktop/545m2/milestone2'"
      ],
      "text/markdown": [
       "'/Users/jiayuhuang/Desktop/545m2/milestone2'"
      ],
      "text/plain": [
       "[1] \"/Users/jiayuhuang/Desktop/545m2/milestone2\""
      ]
     },
     "metadata": {},
     "output_type": "display_data"
    }
   ],
   "source": [
    "here::here()"
   ]
  },
  {
   "cell_type": "raw",
   "id": "9f3b9544-6fd7-4051-bd5e-4a2d00da4fc5",
   "metadata": {},
   "source": [
    "dir.create(here::here(\"output\"))\n",
    "write_csv(price_versus_years_table, here::here(\"output\", \"mini_project_2_price_versus_years_table.csv\"))"
   ]
  },
  {
   "cell_type": "markdown",
   "id": "0bc6d774-a0d1-4486-9f92-c9094993af69",
   "metadata": {},
   "source": [
    "## 3.2 (5 points)\n",
    "\n",
    "Write your model object from Task 3 to an R binary file (an RDS), and load it again. Be sure to save the binary file in your `output` folder. Use the functions `saveRDS()` and `readRDS()`.\n",
    "\n",
    "-   The same robustness and reproducibility criteria as in 3.1 apply here."
   ]
  },
  {
   "cell_type": "code",
   "execution_count": 25,
   "id": "43a69b63-d607-4748-bc67-79dfd30adb70",
   "metadata": {},
   "outputs": [
    {
     "data": {
      "text/html": [
       "<table class=\"dataframe\">\n",
       "<caption>A tibble: 2 × 5</caption>\n",
       "<thead>\n",
       "\t<tr><th scope=col>term</th><th scope=col>estimate</th><th scope=col>std.error</th><th scope=col>statistic</th><th scope=col>p.value</th></tr>\n",
       "\t<tr><th scope=col>&lt;chr&gt;</th><th scope=col>&lt;dbl&gt;</th><th scope=col>&lt;dbl&gt;</th><th scope=col>&lt;dbl&gt;</th><th scope=col>&lt;dbl&gt;</th></tr>\n",
       "</thead>\n",
       "<tbody>\n",
       "\t<tr><td>(Intercept) </td><td>-789.6432335</td><td>500.4040562</td><td>-1.578011</td><td>0.1233109</td></tr>\n",
       "\t<tr><td>release_year</td><td>   0.4020128</td><td>  0.2500108</td><td> 1.607982</td><td>0.1165754</td></tr>\n",
       "</tbody>\n",
       "</table>\n"
      ],
      "text/latex": [
       "A tibble: 2 × 5\n",
       "\\begin{tabular}{lllll}\n",
       " term & estimate & std.error & statistic & p.value\\\\\n",
       " <chr> & <dbl> & <dbl> & <dbl> & <dbl>\\\\\n",
       "\\hline\n",
       "\t (Intercept)  & -789.6432335 & 500.4040562 & -1.578011 & 0.1233109\\\\\n",
       "\t release\\_year &    0.4020128 &   0.2500108 &  1.607982 & 0.1165754\\\\\n",
       "\\end{tabular}\n"
      ],
      "text/markdown": [
       "\n",
       "A tibble: 2 × 5\n",
       "\n",
       "| term &lt;chr&gt; | estimate &lt;dbl&gt; | std.error &lt;dbl&gt; | statistic &lt;dbl&gt; | p.value &lt;dbl&gt; |\n",
       "|---|---|---|---|---|\n",
       "| (Intercept)  | -789.6432335 | 500.4040562 | -1.578011 | 0.1233109 |\n",
       "| release_year |    0.4020128 |   0.2500108 |  1.607982 | 0.1165754 |\n",
       "\n"
      ],
      "text/plain": [
       "  term         estimate     std.error   statistic p.value  \n",
       "1 (Intercept)  -789.6432335 500.4040562 -1.578011 0.1233109\n",
       "2 release_year    0.4020128   0.2500108  1.607982 0.1165754"
      ]
     },
     "metadata": {},
     "output_type": "display_data"
    }
   ],
   "source": [
    "saveRDS(final_tidy, here::here(\"output\", \"mini_project_2_final_tidy.rds\"))\n",
    "read_final_tidy <- readRDS(here::here(\"output\", \"mini_project_2_final_tidy.rds\"))\n",
    "\n",
    "read_final_tidy"
   ]
  },
  {
   "cell_type": "markdown",
   "id": "429c6be6-b01f-4f4b-b35d-5ee526cc3168",
   "metadata": {},
   "source": [
    "# Tidy Repository\n",
    "\n",
    "Now that this is your last milestone, your entire project repository should be organized. Here are the criteria we're looking for.\n",
    "\n",
    "## Main README (3 points)\n",
    "\n",
    "There should be a file named `README.md` at the top level of your repository. Its contents should automatically appear when you visit the repository on GitHub.\n",
    "\n",
    "Minimum contents of the README file:\n",
    "\n",
    "-   In a sentence or two, explains what this repository is, so that future-you or someone else stumbling on your repository can be oriented to the repository.\n",
    "-   In a sentence or two (or more??), briefly explains how to engage with the repository. You can assume the person reading knows the material from STAT 545A. Basically, if a visitor to your repository wants to explore your project, what should they know?\n",
    "\n",
    "Once you get in the habit of making README files, and seeing more README files in other projects, you'll wonder how you ever got by without them! They are tremendously helpful.\n",
    "\n",
    "## File and Folder structure (3 points)\n",
    "\n",
    "You should have at least four folders in the top level of your repository: one for each milestone, and one output folder. If there are any other folders, these are explained in the main README.\n",
    "\n",
    "Each milestone document is contained in its respective folder, and nowhere else.\n",
    "\n",
    "Every level-1 folder (that is, the ones stored in the top level, like \"Milestone1\" and \"output\") has a `README` file, explaining in a sentence or two what is in the folder, in plain language (it's enough to say something like \"This folder contains the source for Milestone 1\").\n",
    "\n",
    "## Output (2 points)\n",
    "\n",
    "All output is recent and relevant:\n",
    "\n",
    "-   All Rmd files have been `knit`ted to their output, and all data files saved from Task 4 above appear in the `output` folder.\n",
    "-   All of these output files are up-to-date -- that is, they haven't fallen behind after the source (Rmd) files have been updated.\n",
    "-   There should be no relic output files. For example, if you were knitting an Rmd to html, but then changed the output to be only a markdown file, then the html file is a relic and should be deleted.\n",
    "\n",
    "Our recommendation: delete all output files, and re-knit each milestone's Rmd file, so that everything is up to date and relevant.\n",
    "\n",
    "PS: there's a way where you can run all project code using a single command, instead of clicking \"knit\" three times. More on this in STAT 545B!\n",
    "\n",
    "## Error-free code (1 point)\n",
    "\n",
    "This Milestone 1 document knits error-free, and the Milestone 2 document knits error-free.\n",
    "\n",
    "## Tagged release (1 point)\n",
    "\n",
    "You've tagged a release for Milestone 1, and you've tagged a release for Milestone 2.\n",
    "\n",
    "### Attribution\n",
    "\n",
    "Thanks to Victor Yuan for mostly putting this together."
   ]
  }
 ],
 "metadata": {
  "kernelspec": {
   "display_name": "R",
   "language": "R",
   "name": "ir"
  },
  "language_info": {
   "codemirror_mode": "r",
   "file_extension": ".r",
   "mimetype": "text/x-r-source",
   "name": "R",
   "pygments_lexer": "r",
   "version": "4.2.1"
  }
 },
 "nbformat": 4,
 "nbformat_minor": 5
}
